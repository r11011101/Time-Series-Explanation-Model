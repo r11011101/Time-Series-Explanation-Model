{
 "cells": [
  {
   "cell_type": "code",
   "execution_count": 4,
   "metadata": {},
   "outputs": [],
   "source": [
    "import torch\n",
    "import torch.nn as nn\n",
    "import torch.optim as optim\n",
    "import pandas as pd\n",
    "import numpy as np\n",
    "from sklearn.preprocessing import StandardScaler\n",
    "from torch.utils.data import DataLoader, TensorDataset"
   ]
  },
  {
   "cell_type": "code",
   "execution_count": 5,
   "metadata": {},
   "outputs": [
    {
     "name": "stdout",
     "output_type": "stream",
     "text": [
      "          日期        成交股數            成交金額     開盤價     最高價     最低價     收盤價  \\\n",
      "0  113/01/02  27,997,826  16,549,619,798  590.00  593.00  589.00  593.00   \n",
      "1  113/01/03  40,134,497  23,267,025,945  584.00  585.00  576.00  578.00   \n",
      "2  113/01/04  18,063,758  10,466,284,102  580.00  581.00  577.00  580.00   \n",
      "3  113/01/05  22,008,878  12,685,460,114  578.00  580.00  574.00  576.00   \n",
      "4  113/01/08  19,270,119  11,232,942,053  582.00  585.00  579.00  583.00   \n",
      "\n",
      "     漲跌價差    成交筆數  \n",
      "0    0.00  20,667  \n",
      "1  -15.00  56,916  \n",
      "2   +2.00  15,010  \n",
      "3   -4.00  28,660  \n",
      "4   +7.00  19,950  \n",
      "Empty DataFrame\n",
      "Columns: []\n",
      "Index: [0, 1, 2, 3, 4]\n"
     ]
    }
   ],
   "source": [
    "# 讀取 CSV 檔案\n",
    "file_path = \"2330_20240101_20250131.csv\"\n",
    "df = pd.read_csv(file_path)\n",
    "print(df.head())\n",
    "# 假設我們要使用數值型的列來做 Autoencoder\n",
    "df = df.select_dtypes(include=[np.number]).dropna()\n",
    "\n",
    "print(df.head())"
   ]
  },
  {
   "cell_type": "code",
   "execution_count": 6,
   "metadata": {},
   "outputs": [
    {
     "name": "stdout",
     "output_type": "stream",
     "text": [
      "          日期        成交股數           成交金額    開盤價    最高價    最低價    收盤價   漲跌價差  \\\n",
      "0  113/01/02  20,339,186  2,128,017,722  104.5  105.0  104.0  105.0  +0.50   \n",
      "1  113/01/03  19,284,338  2,012,960,063  104.5  105.0  104.0  104.5  -0.50   \n",
      "2  113/01/04  15,626,821  1,630,513,586  104.5  105.0  104.0  104.0  -0.50   \n",
      "3  113/01/05  13,458,610  1,401,623,876  104.0  104.5  104.0  104.0   0.00   \n",
      "4  113/01/08  35,053,132  3,594,588,454  103.5  104.0  101.5  101.5  -2.50   \n",
      "\n",
      "     成交筆數  \n",
      "0   8,860  \n",
      "1   7,777  \n",
      "2   6,666  \n",
      "3   7,991  \n",
      "4  20,103  \n",
      "     開盤價    最高價    最低價    收盤價\n",
      "0  104.5  105.0  104.0  105.0\n",
      "1  104.5  105.0  104.0  104.5\n",
      "2  104.5  105.0  104.0  104.0\n",
      "3  104.0  104.5  104.0  104.0\n",
      "4  103.5  104.0  101.5  101.5\n"
     ]
    }
   ],
   "source": [
    "# 讀取 CSV 檔案\n",
    "file_path = \"2317_20240101_20250131.csv\"\n",
    "df = pd.read_csv(file_path)\n",
    "print(df.head())\n",
    "# 假設我們要使用數值型的列來做 Autoencoder\n",
    "df = df.select_dtypes(include=[np.number]).dropna()\n",
    "\n",
    "print(df.head())"
   ]
  },
  {
   "cell_type": "code",
   "execution_count": 7,
   "metadata": {},
   "outputs": [
    {
     "name": "stdout",
     "output_type": "stream",
     "text": [
      "          日期        成交股數            成交金額       開盤價       最高價     最低價     收盤價  \\\n",
      "0  113/01/02  10,668,557  10,539,569,604  1,010.00  1,015.00  980.00  981.00   \n",
      "1  113/01/03  13,403,900  12,879,381,226    976.00    977.00  953.00  953.00   \n",
      "2  113/01/04   9,628,243   8,961,976,323    940.00    947.00  922.00  928.00   \n",
      "3  113/01/05   5,851,876   5,418,281,372    929.00    935.00  921.00  921.00   \n",
      "4  113/01/08   6,035,931   5,581,861,138    930.00    936.00  918.00  920.00   \n",
      "\n",
      "     漲跌價差    成交筆數  \n",
      "0  -34.00  33,320  \n",
      "1  -28.00  36,634  \n",
      "2   X0.00  26,322  \n",
      "3   -7.00  14,629  \n",
      "4   -1.00  13,205  \n",
      "Empty DataFrame\n",
      "Columns: []\n",
      "Index: [0, 1, 2, 3, 4]\n"
     ]
    }
   ],
   "source": [
    "# 讀取 CSV 檔案\n",
    "file_path = \"2454_20240101_20250131.csv\"\n",
    "df = pd.read_csv(file_path)\n",
    "print(df.head())\n",
    "# 假設我們要使用數值型的列來做 Autoencoder\n",
    "df = df.select_dtypes(include=[np.number]).dropna()\n",
    "\n",
    "print(df.head())"
   ]
  },
  {
   "cell_type": "code",
   "execution_count": 8,
   "metadata": {},
   "outputs": [
    {
     "name": "stdout",
     "output_type": "stream",
     "text": [
      "          日期        成交股數           成交金額    開盤價    最高價    最低價    收盤價   漲跌價差  \\\n",
      "0  113/01/02  20,339,186  2,128,017,722  104.5  105.0  104.0  105.0  +0.50   \n",
      "1  113/01/03  19,284,338  2,012,960,063  104.5  105.0  104.0  104.5  -0.50   \n",
      "2  113/01/04  15,626,821  1,630,513,586  104.5  105.0  104.0  104.0  -0.50   \n",
      "3  113/01/05  13,458,610  1,401,623,876  104.0  104.5  104.0  104.0   0.00   \n",
      "4  113/01/08  35,053,132  3,594,588,454  103.5  104.0  101.5  101.5  -2.50   \n",
      "\n",
      "     成交筆數  股票代碼  \n",
      "0   8,860  2317  \n",
      "1   7,777  2317  \n",
      "2   6,666  2317  \n",
      "3   7,991  2317  \n",
      "4  20,103  2317  \n"
     ]
    }
   ],
   "source": [
    "import pandas as pd\n",
    "\n",
    "# 定義檔案名稱和對應的股票代碼\n",
    "files = {\n",
    "    \"2317\": \"2317_20240101_20250131.csv\",\n",
    "    \"2330\": \"2330_20240101_20250131.csv\",\n",
    "    \"2454\": \"2454_20240101_20250131.csv\"\n",
    "}\n",
    "\n",
    "# 建立一個空的 DataFrame 來存放合併後的資料\n",
    "df_list = []\n",
    "\n",
    "for stock_code, file in files.items():\n",
    "    df = pd.read_csv(file)  # 讀取 CSV 檔案\n",
    "    df[\"股票代碼\"] = stock_code  # 新增股票代碼欄位\n",
    "    df_list.append(df)  # 加入合併列表\n",
    "\n",
    "# 合併所有 DataFrame\n",
    "merged_df = pd.concat(df_list, ignore_index=True)\n",
    "\n",
    "# 儲存合併後的 CSV\n",
    "merged_df.to_csv(\"merged_stocks.csv\", index=False)\n",
    "\n",
    "# 顯示前幾列資料\n",
    "print(merged_df.head())\n"
   ]
  }
 ],
 "metadata": {
  "kernelspec": {
   "display_name": "myenv",
   "language": "python",
   "name": "python3"
  },
  "language_info": {
   "codemirror_mode": {
    "name": "ipython",
    "version": 3
   },
   "file_extension": ".py",
   "mimetype": "text/x-python",
   "name": "python",
   "nbconvert_exporter": "python",
   "pygments_lexer": "ipython3",
   "version": "3.10.12"
  }
 },
 "nbformat": 4,
 "nbformat_minor": 2
}
