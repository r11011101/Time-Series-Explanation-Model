{
 "cells": [
  {
   "cell_type": "code",
   "execution_count": 8,
   "metadata": {},
   "outputs": [
    {
     "name": "stdout",
     "output_type": "stream",
     "text": [
      "Signature features computed.\n",
      "MMD between 2010-2015 and 2016-2023: 0.051860\n"
     ]
    }
   ],
   "source": [
    "import pandas as pd\n",
    "import numpy as np\n",
    "import esig  # 簽名特徵計算\n",
    "from sklearn.metrics.pairwise import rbf_kernel\n",
    "from sklearn.preprocessing import StandardScaler\n",
    "\n",
    "# 讀取 CSV\n",
    "file_path = \"../1.資料前處理/merged_stocks_sorted.csv\"\n",
    "df = pd.read_csv(file_path)\n",
    "\n",
    "# 轉換日期格式\n",
    "df['日期'] = pd.to_datetime(df['日期'])\n",
    "\n",
    "# 處理數據類型（去除千分位並轉為 float）\n",
    "for col in ['成交股數', '成交金額', '成交筆數']:\n",
    "    df[col] = df[col].astype(str).str.replace(',', '').astype(float)\n",
    "\n",
    "# 選擇數值特徵\n",
    "features = ['開盤價', '收盤價', '最高價', '最低價', '成交股數', 'MACD', 'RSI']\n",
    "df_features = df[features]\n",
    "\n",
    "# **計算簽名特徵**\n",
    "path = df_features.diff().dropna().values  # 計算變化量\n",
    "sig_transform = esig.stream2sig(path, 2)  # 計算簽名特徵，order=2\n",
    "print(\"Signature features computed.\")\n",
    "\n",
    "# ---------------------\n",
    "# **計算 MMD**\n",
    "# ---------------------\n",
    "\n",
    "# 分割兩個不同時間段\n",
    "df1 = df[df['日期'] < '2016-01-01']\n",
    "df2 = df[df['日期'] >= '2016-01-01']\n",
    "\n",
    "# 確保兩組數據長度一致\n",
    "min_len = min(len(df1), len(df2))\n",
    "df1 = df1.iloc[:min_len]\n",
    "df2 = df2.iloc[:min_len]\n",
    "\n",
    "# 取出數值特徵\n",
    "X1 = df1[features].dropna().values\n",
    "X2 = df2[features].dropna().values\n",
    "\n",
    "# **標準化數據**\n",
    "scaler = StandardScaler()\n",
    "X1 = scaler.fit_transform(X1)\n",
    "X2 = scaler.transform(X2)\n",
    "\n",
    "# 計算 RBF Kernel\n",
    "gamma = 1.0 / X1.shape[1]  # 調整 gamma 參數\n",
    "K_XX = rbf_kernel(X1, X1, gamma=gamma)\n",
    "K_YY = rbf_kernel(X2, X2, gamma=gamma)\n",
    "K_XY = rbf_kernel(X1, X2, gamma=gamma)\n",
    "\n",
    "# 計算 MMD\n",
    "mmd = np.mean(K_XX) + np.mean(K_YY) - 2 * np.mean(K_XY)\n",
    "print(f\"MMD between 2010-2015 and 2016-2023: {mmd:.6f}\")\n"
   ]
  },
  {
   "cell_type": "code",
   "execution_count": 6,
   "metadata": {},
   "outputs": [
    {
     "name": "stdout",
     "output_type": "stream",
     "text": [
      "[ 1.00000000e+00  3.82700000e+02  3.92000000e+02  3.93100000e+02\n",
      "  3.76700000e+02 -4.54076950e+07  1.98694344e+01  1.51532080e+00\n",
      "  7.32296450e+04 -6.68333705e+05  5.30555701e+06 -5.50129112e+06\n",
      " -2.92308799e+13 -1.83342951e+06 -4.49765520e+06  8.18352105e+05\n",
      "  7.68320000e+04  6.04867046e+06 -4.76602350e+06 -2.92176331e+13\n",
      " -1.82591665e+06 -4.51358076e+06 -5.15511765e+06 -5.89457527e+06\n",
      "  7.72638050e+04 -1.07259676e+07 -2.93107525e+13 -1.90216801e+06\n",
      " -4.58462284e+06  5.64545421e+06  4.91368990e+06  1.08740484e+07\n",
      "  7.09514450e+04 -2.91085524e+13 -1.75968212e+06 -4.42191969e+06\n",
      "  2.92135024e+13  2.91998333e+13  2.92929027e+13  2.90914473e+13\n",
      "  1.03092938e+15  1.94789186e+11  5.43044297e+11  1.84103354e+06\n",
      "  1.83370547e+06  1.90997868e+06  1.76716694e+06 -1.95691411e+11\n",
      "  1.97397212e+02 -1.05820234e+05  4.49823512e+06  4.51417476e+06\n",
      "  4.58521851e+06  4.42249051e+06 -5.43113104e+11  1.05850342e+05\n",
      "  1.14809856e+00]\n"
     ]
    }
   ],
   "source": [
    "import esig\n",
    "\n",
    "sig_transform = esig.stream2sig(path, 2)\n",
    "print(sig_transform)\n"
   ]
  },
  {
   "cell_type": "code",
   "execution_count": 5,
   "metadata": {},
   "outputs": [
    {
     "name": "stdout",
     "output_type": "stream",
     "text": [
      "['ESIG_PACKAGE_ROOT', '__all__', '__builtins__', '__cached__', '__doc__', '__file__', '__loader__', '__name__', '__package__', '__path__', '__spec__', '_verify_stream_arg', '_verify_valid_depth', 'backends', 'functools', 'get_backend', 'get_library_load_error', 'get_version', 'is_library_loaded', 'list_backends', 'logsigdim', 'logsigkeys', 'math', 'numpy', 'os', 'recombine', 'set_backend', 'sigdim', 'sigkeys', 'stream2logsig', 'stream2sig', 'warnings']\n"
     ]
    }
   ],
   "source": [
    "import esig\n",
    "print(dir(esig))\n"
   ]
  },
  {
   "cell_type": "code",
   "execution_count": 3,
   "metadata": {},
   "outputs": [
    {
     "name": "stdout",
     "output_type": "stream",
     "text": [
      "Name: esig\n",
      "Version: 1.0.0\n",
      "Summary: This package provides \"rough path\" tools for analysing vector time series.\n",
      "Home-page: \n",
      "Author: \n",
      "Author-email: Terry Lyons <software@lyonstech.net>\n",
      "License: \n",
      "Location: /home/r11011101/anaconda3/envs/myenv/lib/python3.10/site-packages\n",
      "Requires: numpy, pyrecombine, roughpy\n",
      "Required-by: \n"
     ]
    }
   ],
   "source": [
    "!pip show esig"
   ]
  }
 ],
 "metadata": {
  "kernelspec": {
   "display_name": "myenv",
   "language": "python",
   "name": "python3"
  },
  "language_info": {
   "codemirror_mode": {
    "name": "ipython",
    "version": 3
   },
   "file_extension": ".py",
   "mimetype": "text/x-python",
   "name": "python",
   "nbconvert_exporter": "python",
   "pygments_lexer": "ipython3",
   "version": "3.10.12"
  }
 },
 "nbformat": 4,
 "nbformat_minor": 2
}
